{
 "cells": [
  {
   "cell_type": "code",
   "execution_count": 1,
   "id": "89d31f37",
   "metadata": {},
   "outputs": [],
   "source": [
    "import pandas as pd\n",
    "import numpy as np\n",
    "import matplotlib.pyplot as plt\n",
    "%matplotlib inline"
   ]
  },
  {
   "cell_type": "code",
   "execution_count": 2,
   "id": "61128673",
   "metadata": {},
   "outputs": [],
   "source": [
    "from sklearn.datasets import load_digits\n",
    "digits= load_digits()"
   ]
  },
  {
   "cell_type": "code",
   "execution_count": 6,
   "id": "c1fc35e4",
   "metadata": {},
   "outputs": [
    {
     "data": {
      "text/plain": [
       "dict_keys(['data', 'target', 'frame', 'feature_names', 'target_names', 'images', 'DESCR'])"
      ]
     },
     "execution_count": 6,
     "metadata": {},
     "output_type": "execute_result"
    }
   ],
   "source": [
    "digits.keys()\n"
   ]
  },
  {
   "cell_type": "code",
   "execution_count": 7,
   "id": "ac08f6f8",
   "metadata": {},
   "outputs": [
    {
     "data": {
      "text/plain": [
       "<matplotlib.image.AxesImage at 0x9489630d0>"
      ]
     },
     "execution_count": 7,
     "metadata": {},
     "output_type": "execute_result"
    },
    {
     "data": {
      "image/png": "[encoded data removed]",
      "text/plain": [
       "<Figure size 288x288 with 1 Axes>"
      ]
     },
     "metadata": {
      "needs_background": "light"
     },
     "output_type": "display_data"
    }
   ],
   "source": [
    "plt.matshow(digits.images[0])"
   ]
  },
  {
   "cell_type": "code",
   "execution_count": 8,
   "id": "0b72ea78",
   "metadata": {},
   "outputs": [
    {
     "data": {
      "text/plain": [
       "array([0, 1, 2, 3, 4])"
      ]
     },
     "execution_count": 8,
     "metadata": {},
     "output_type": "execute_result"
    }
   ],
   "source": [
    "digits.target[:5]"
   ]
  },
  {
   "cell_type": "code",
   "execution_count": 9,
   "id": "c0023c1c",
   "metadata": {},
   "outputs": [],
   "source": [
    "from sklearn.linear_model import LogisticRegression\n",
    "model= LogisticRegression()\n"
   ]
  },
  {
   "cell_type": "code",
   "execution_count": 10,
   "id": "b1bf2062",
   "metadata": {},
   "outputs": [],
   "source": [
    "from sklearn.model_selection import train_test_split\n",
    "X_train, X_test, y_train, y_test= train_test_split(digits.data, digits.target, test_size=0.2)"
   ]
  },
  {
   "cell_type": "code",
   "execution_count": 11,
   "id": "77d9db2f",
   "metadata": {},
   "outputs": [
    {
     "data": {
      "text/plain": [
       "1437"
      ]
     },
     "execution_count": 11,
     "metadata": {},
     "output_type": "execute_result"
    }
   ],
   "source": [
    "len(X_train)"
   ]
  },
  {
   "cell_type": "code",
   "execution_count": 12,
   "id": "f0808287",
   "metadata": {},
   "outputs": [
    {
     "data": {
      "text/plain": [
       "360"
      ]
     },
     "execution_count": 12,
     "metadata": {},
     "output_type": "execute_result"
    }
   ],
   "source": [
    "len(X_test)"
   ]
  },
  {
   "cell_type": "code",
   "execution_count": 13,
   "id": "b49992cd",
   "metadata": {},
   "outputs": [
    {
     "data": {
      "text/plain": [
       "1797"
      ]
     },
     "execution_count": 13,
     "metadata": {},
     "output_type": "execute_result"
    }
   ],
   "source": [
    "len(digits.data)"
   ]
  },
  {
   "cell_type": "code",
   "execution_count": 15,
   "id": "901d9ac2",
   "metadata": {},
   "outputs": [],
   "source": [
    "import warnings\n",
    "warnings.filterwarnings('ignore')"
   ]
  },
  {
   "cell_type": "code",
   "execution_count": 16,
   "id": "0810c9a8",
   "metadata": {},
   "outputs": [
    {
     "data": {
      "text/html": [
       "<style>#sk-container-id-2 {color: black;background-color: white;}#sk-container-id-2 pre{padding: 0;}#sk-container-id-2 div.sk-toggleable {background-color: white;}#sk-container-id-2 label.sk-toggleable__label {cursor: pointer;display: block;width: 100%;margin-bottom: 0;padding: 0.3em;box-sizing: border-box;text-align: center;}#sk-container-id-2 label.sk-toggleable__label-arrow:before {content: \"▸\";float: left;margin-right: 0.25em;color: #696969;}#sk-container-id-2 label.sk-toggleable__label-arrow:hover:before {color: black;}#sk-container-id-2 div.sk-estimator:hover label.sk-toggleable__label-arrow:before {color: black;}#sk-container-id-2 div.sk-toggleable__content {max-height: 0;max-width: 0;overflow: hidden;text-align: left;background-color: #f0f8ff;}#sk-container-id-2 div.sk-toggleable__content pre {margin: 0.2em;color: black;border-radius: 0.25em;background-color: #f0f8ff;}#sk-container-id-2 input.sk-toggleable__control:checked~div.sk-toggleable__content {max-height: 200px;max-width: 100%;overflow: auto;}#sk-container-id-2 input.sk-toggleable__control:checked~label.sk-toggleable__label-arrow:before {content: \"▾\";}#sk-container-id-2 div.sk-estimator input.sk-toggleable__control:checked~label.sk-toggleable__label {background-color: #d4ebff;}#sk-container-id-2 div.sk-label input.sk-toggleable__control:checked~label.sk-toggleable__label {background-color: #d4ebff;}#sk-container-id-2 input.sk-hidden--visually {border: 0;clip: rect(1px 1px 1px 1px);clip: rect(1px, 1px, 1px, 1px);height: 1px;margin: -1px;overflow: hidden;padding: 0;position: absolute;width: 1px;}#sk-container-id-2 div.sk-estimator {font-family: monospace;background-color: #f0f8ff;border: 1px dotted black;border-radius: 0.25em;box-sizing: border-box;margin-bottom: 0.5em;}#sk-container-id-2 div.sk-estimator:hover {background-color: #d4ebff;}#sk-container-id-2 div.sk-parallel-item::after {content: \"\";width: 100%;border-bottom: 1px solid gray;flex-grow: 1;}#sk-container-id-2 div.sk-label:hover label.sk-toggleable__label {background-color: #d4ebff;}#sk-container-id-2 div.sk-serial::before {content: \"\";position: absolute;border-left: 1px solid gray;box-sizing: border-box;top: 0;bottom: 0;left: 50%;z-index: 0;}#sk-container-id-2 div.sk-serial {display: flex;flex-direction: column;align-items: center;background-color: white;padding-right: 0.2em;padding-left: 0.2em;position: relative;}#sk-container-id-2 div.sk-item {position: relative;z-index: 1;}#sk-container-id-2 div.sk-parallel {display: flex;align-items: stretch;justify-content: center;background-color: white;position: relative;}#sk-container-id-2 div.sk-item::before, #sk-container-id-2 div.sk-parallel-item::before {content: \"\";position: absolute;border-left: 1px solid gray;box-sizing: border-box;top: 0;bottom: 0;left: 50%;z-index: -1;}#sk-container-id-2 div.sk-parallel-item {display: flex;flex-direction: column;z-index: 1;position: relative;background-color: white;}#sk-container-id-2 div.sk-parallel-item:first-child::after {align-self: flex-end;width: 50%;}#sk-container-id-2 div.sk-parallel-item:last-child::after {align-self: flex-start;width: 50%;}#sk-container-id-2 div.sk-parallel-item:only-child::after {width: 0;}#sk-container-id-2 div.sk-dashed-wrapped {border: 1px dashed gray;margin: 0 0.4em 0.5em 0.4em;box-sizing: border-box;padding-bottom: 0.4em;background-color: white;}#sk-container-id-2 div.sk-label label {font-family: monospace;font-weight: bold;display: inline-block;line-height: 1.2em;}#sk-container-id-2 div.sk-label-container {text-align: center;}#sk-container-id-2 div.sk-container {/* jupyter's `normalize.less` sets `[hidden] { display: none; }` but bootstrap.min.css set `[hidden] { display: none !important; }` so we also need the `!important` here to be able to override the default hidden behavior on the sphinx rendered scikit-learn.org. See: https://github.com/scikit-learn/scikit-learn/issues/21755 */display: inline-block !important;position: relative;}#sk-container-id-2 div.sk-text-repr-fallback {display: none;}</style><div id=\"sk-container-id-2\" class=\"sk-top-container\"><div class=\"sk-text-repr-fallback\"><pre>LogisticRegression()</pre><b>In a Jupyter environment, please rerun this cell to show the HTML representation or trust the notebook. <br />On GitHub, the HTML representation is unable to render, please try loading this page with nbviewer.org.</b></div><div class=\"sk-container\" hidden><div class=\"sk-item\"><div class=\"sk-estimator sk-toggleable\"><input class=\"sk-toggleable__control sk-hidden--visually\" id=\"sk-estimator-id-2\" type=\"checkbox\" checked><label for=\"sk-estimator-id-2\" class=\"sk-toggleable__label sk-toggleable__label-arrow\">LogisticRegression</label><div class=\"sk-toggleable__content\"><pre>LogisticRegression()</pre></div></div></div></div></div>"
      ],
      "text/plain": [
       "LogisticRegression()"
      ]
     },
     "execution_count": 16,
     "metadata": {},
     "output_type": "execute_result"
    }
   ],
   "source": [
    "# Training the MODEL\n",
    "\n",
    "model.fit(X_train, y_train)"
   ]
  },
  {
   "cell_type": "code",
   "execution_count": 17,
   "id": "d68c3168",
   "metadata": {},
   "outputs": [
    {
     "data": {
      "text/plain": [
       "array([3, 1, 2, 9, 6, 3, 6, 4, 8, 7, 4, 0, 5, 0, 3, 5, 4, 3, 5, 2, 5, 6,\n",
       "       6, 3, 9, 6, 2, 0, 3, 3, 6, 5, 4, 5, 1, 6, 8, 7, 0, 0, 1, 9, 6, 1,\n",
       "       7, 6, 5, 9, 6, 5, 6, 3, 8, 1, 0, 5, 3, 0, 2, 4, 3, 6, 9, 8, 1, 6,\n",
       "       4, 3, 8, 6, 8, 1, 9, 9, 8, 4, 9, 4, 2, 5, 7, 7, 5, 1, 5, 5, 3, 8,\n",
       "       5, 0, 5, 9, 2, 3, 7, 4, 2, 8, 7, 2, 9, 1, 0, 4, 3, 2, 3, 9, 5, 5,\n",
       "       9, 1, 2, 2, 7, 8, 9, 6, 5, 9, 0, 0, 8, 5, 4, 1, 8, 0, 2, 8, 7, 6,\n",
       "       2, 2, 6, 9, 3, 1, 3, 1, 3, 9, 5, 8, 8, 1, 0, 7, 5, 0, 8, 1, 7, 3,\n",
       "       4, 3, 6, 7, 5, 6, 2, 0, 5, 5, 3, 0, 1, 3, 2, 5, 6, 1, 6, 6, 0, 3,\n",
       "       9, 4, 8, 0, 4, 8, 5, 0, 9, 6, 8, 4, 1, 0, 2, 8, 8, 9, 4, 9, 8, 7,\n",
       "       9, 2, 2, 0, 4, 3, 4, 5, 2, 0, 4, 2, 7, 6, 0, 9, 8, 6, 0, 1, 8, 7,\n",
       "       0, 4, 4, 3, 3, 6, 1, 6, 4, 2, 6, 8, 7, 6, 6, 8, 1, 2, 8, 2, 6, 9,\n",
       "       6, 8, 1, 3, 4, 2, 4, 6, 6, 6, 0, 6, 3, 9, 4, 4, 2, 6, 6, 6, 6, 3,\n",
       "       8, 9, 6, 8, 5, 1, 2, 1, 9, 3, 9, 3, 0, 8, 2, 9, 9, 2, 3, 2, 9, 7,\n",
       "       2, 9, 5, 1, 3, 3, 2, 0, 7, 2, 8, 3, 1, 8, 5, 8, 6, 5, 9, 3, 4, 8,\n",
       "       8, 9, 5, 4, 2, 3, 5, 6, 6, 3, 4, 3, 4, 6, 1, 5, 7, 3, 4, 5, 5, 0,\n",
       "       9, 3, 5, 2, 4, 4, 0, 4, 1, 2, 0, 0, 9, 9, 8, 8, 5, 8, 5, 5, 1, 9,\n",
       "       7, 1, 1, 2, 4, 7, 2, 7])"
      ]
     },
     "execution_count": 17,
     "metadata": {},
     "output_type": "execute_result"
    }
   ],
   "source": [
    "# Testing the MODEL\n",
    "\n",
    "model.predict(X_test)"
   ]
  },
  {
   "cell_type": "code",
   "execution_count": 18,
   "id": "7a9f271f",
   "metadata": {},
   "outputs": [
    {
     "data": {
      "text/plain": [
       "array([3, 2, 2, 9, 6, 3, 6, 4, 8, 7, 4, 0, 3, 0, 3, 5, 4, 3, 5, 2, 5, 6,\n",
       "       6, 3, 9, 6, 2, 0, 3, 3, 6, 5, 4, 5, 1, 6, 8, 7, 0, 0, 1, 9, 6, 1,\n",
       "       7, 6, 5, 9, 6, 5, 6, 3, 8, 1, 0, 5, 3, 0, 2, 4, 3, 6, 9, 8, 1, 6,\n",
       "       4, 3, 8, 6, 8, 1, 9, 9, 8, 4, 9, 4, 2, 5, 7, 7, 5, 1, 5, 5, 3, 8,\n",
       "       3, 0, 5, 9, 2, 3, 7, 4, 2, 8, 7, 2, 9, 1, 0, 4, 3, 2, 3, 9, 5, 5,\n",
       "       9, 1, 2, 2, 7, 8, 9, 6, 5, 9, 0, 0, 8, 5, 4, 1, 9, 0, 2, 8, 8, 6,\n",
       "       2, 2, 6, 9, 3, 1, 3, 1, 3, 9, 5, 8, 9, 1, 0, 7, 5, 0, 8, 1, 7, 3,\n",
       "       4, 3, 6, 7, 5, 6, 2, 0, 5, 5, 3, 0, 1, 3, 2, 5, 6, 1, 6, 6, 0, 3,\n",
       "       9, 4, 8, 0, 4, 8, 5, 0, 9, 6, 8, 4, 1, 0, 2, 8, 9, 9, 4, 9, 8, 7,\n",
       "       9, 2, 2, 0, 4, 3, 4, 9, 2, 0, 4, 8, 7, 6, 0, 9, 8, 6, 0, 1, 8, 7,\n",
       "       0, 4, 4, 3, 3, 6, 1, 6, 4, 2, 6, 8, 7, 6, 6, 8, 1, 2, 8, 2, 6, 9,\n",
       "       6, 8, 1, 3, 4, 2, 4, 6, 6, 6, 0, 6, 3, 9, 4, 4, 2, 6, 6, 6, 6, 3,\n",
       "       8, 9, 6, 8, 5, 1, 2, 1, 9, 3, 9, 3, 0, 9, 2, 9, 9, 2, 3, 3, 9, 7,\n",
       "       2, 9, 5, 1, 3, 3, 2, 0, 7, 2, 8, 3, 1, 8, 5, 8, 6, 5, 9, 3, 4, 8,\n",
       "       8, 9, 5, 4, 2, 3, 5, 6, 6, 3, 4, 3, 4, 6, 1, 5, 7, 3, 4, 5, 5, 0,\n",
       "       9, 3, 5, 2, 4, 4, 0, 4, 1, 2, 0, 0, 9, 9, 8, 8, 5, 8, 5, 5, 1, 9,\n",
       "       7, 1, 1, 2, 4, 7, 2, 7])"
      ]
     },
     "execution_count": 18,
     "metadata": {},
     "output_type": "execute_result"
    }
   ],
   "source": [
    "y_test"
   ]
  },
  {
   "cell_type": "code",
   "execution_count": 19,
   "id": "fa5d8ff6",
   "metadata": {},
   "outputs": [
    {
     "data": {
      "text/plain": [
       "0.9694444444444444"
      ]
     },
     "execution_count": 19,
     "metadata": {},
     "output_type": "execute_result"
    }
   ],
   "source": [
    "model.score(X_test,y_test)"
   ]
  },
  {
   "cell_type": "code",
   "execution_count": 20,
   "id": "fb9940e5",
   "metadata": {},
   "outputs": [],
   "source": [
    "# Checking where the predictions did not work\n",
    "\n",
    "# Using confusion matrix"
   ]
  },
  {
   "cell_type": "code",
   "execution_count": 21,
   "id": "86a9ab5d",
   "metadata": {},
   "outputs": [],
   "source": [
    "y_predicted= model.predict(X_test)"
   ]
  },
  {
   "cell_type": "code",
   "execution_count": 22,
   "id": "7603e142",
   "metadata": {},
   "outputs": [
    {
     "data": {
      "text/plain": [
       "array([[32,  0,  0,  0,  0,  0,  0,  0,  0,  0],\n",
       "       [ 0, 30,  0,  0,  0,  0,  0,  0,  0,  0],\n",
       "       [ 0,  1, 36,  0,  0,  0,  0,  0,  0,  0],\n",
       "       [ 0,  0,  1, 41,  0,  2,  0,  0,  0,  0],\n",
       "       [ 0,  0,  0,  0, 35,  0,  0,  0,  0,  0],\n",
       "       [ 0,  0,  0,  0,  0, 37,  0,  0,  0,  0],\n",
       "       [ 0,  0,  0,  0,  0,  0, 45,  0,  0,  0],\n",
       "       [ 0,  0,  0,  0,  0,  0,  0, 21,  0,  0],\n",
       "       [ 0,  0,  1,  0,  0,  0,  0,  1, 35,  0],\n",
       "       [ 0,  0,  0,  0,  0,  1,  0,  0,  4, 37]], dtype=int64)"
      ]
     },
     "execution_count": 22,
     "metadata": {},
     "output_type": "execute_result"
    }
   ],
   "source": [
    "from sklearn.metrics import confusion_matrix\n",
    "cm= confusion_matrix(y_test, y_predicted)\n",
    "cm"
   ]
  },
  {
   "cell_type": "code",
   "execution_count": 24,
   "id": "50b378e3",
   "metadata": {},
   "outputs": [
    {
     "data": {
      "text/plain": [
       "Text(69.0, 0.5, 'Truth')"
      ]
     },
     "execution_count": 24,
     "metadata": {},
     "output_type": "execute_result"
    },
    {
     "data": {
      "image/png": "[encoded data removed]",
      "text/plain": [
       "<Figure size 720x504 with 2 Axes>"
      ]
     },
     "metadata": {
      "needs_background": "light"
     },
     "output_type": "display_data"
    }
   ],
   "source": [
    "import seaborn as sns\n",
    "plt.figure(figsize=(10,7))\n",
    "sns.heatmap(cm, annot= True)\n",
    "plt.xlabel('Predicted')\n",
    "plt.ylabel('Truth')"
   ]
  },
  {
   "cell_type": "code",
   "execution_count": null,
   "id": "48409fdd",
   "metadata": {},
   "outputs": [],
   "source": []
  }
 ],
 "metadata": {
  "kernelspec": {
   "display_name": "Python 3",
   "language": "python",
   "name": "python3"
  },
  "language_info": {
   "codemirror_mode": {
    "name": "ipython",
    "version": 3
   },
   "file_extension": ".py",
   "mimetype": "text/x-python",
   "name": "python",
   "nbconvert_exporter": "python",
   "pygments_lexer": "ipython3",
   "version": "3.8.8"
  }
 },
 "nbformat": 4,
 "nbformat_minor": 5
}
